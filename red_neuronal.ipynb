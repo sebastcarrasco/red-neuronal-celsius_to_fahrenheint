{
  "nbformat": 4,
  "nbformat_minor": 0,
  "metadata": {
    "colab": {
      "name": "red-neuronal.ipynb",
      "provenance": [],
      "authorship_tag": "ABX9TyOVoP2FPWJpPAeq/lVNFSQ+"
    },
    "kernelspec": {
      "name": "python3",
      "display_name": "Python 3"
    },
    "language_info": {
      "name": "python"
    }
  },
  "cells": [
    {
      "cell_type": "code",
      "metadata": {
        "id": "lwb-zPd7WauG"
      },
      "source": [
        "import tensorflow as tf\n",
        "import numpy as np\n"
      ],
      "execution_count": 1,
      "outputs": []
    },
    {
      "cell_type": "code",
      "metadata": {
        "id": "oxGh_qPSW-yy"
      },
      "source": [
        "#arreglos con las entradas de datos celsius y fahrenheit\n",
        "celsius = np.array([-40, -10, 0, 8, 15, 22, 38], dtype=float)\n",
        "fahrenheit = np.array([-40, 14, 32, 46, 59, 72, 100], dtype=float)"
      ],
      "execution_count": 2,
      "outputs": []
    },
    {
      "cell_type": "code",
      "metadata": {
        "id": "1vFhmV9UYZE_"
      },
      "source": [
        "#creamos modelo con keras, creando solo una capa de salida, que indicara la entrada y salida neuronal \n",
        "capa = tf.keras.layers.Dense(units=1, input_shape=[1])\n",
        "modelo = tf.keras.Sequential([capa])\n"
      ],
      "execution_count": 3,
      "outputs": []
    },
    {
      "cell_type": "code",
      "metadata": {
        "id": "lpLGiuF-b1VE"
      },
      "source": [
        "#compilar modelo, para preparar modelo a ser entrenado \n",
        "modelo.compile(\n",
        "    optimizer=tf.keras.optimizers.Adam(0.1) ,\n",
        "    loss='mean_squared_error'  \n",
        ")      "
      ],
      "execution_count": 5,
      "outputs": []
    },
    {
      "cell_type": "code",
      "metadata": {
        "colab": {
          "base_uri": "https://localhost:8080/"
        },
        "id": "FPyfHR9vdGtv",
        "outputId": "e93e56fc-13bb-4221-910e-4e91069c2f36"
      },
      "source": [
        "print(\"Comenzando entrenamiento...\")\n",
        "historial = modelo.fit(celsius, fahrenheit, epochs=1000, verbose=False) #numero de iteraciones o de vueltas a los datos \n",
        "print(\"Modelo entrenado!\")"
      ],
      "execution_count": 6,
      "outputs": [
        {
          "output_type": "stream",
          "text": [
            "Comenzando entrenamiento...\n",
            "Modelo entrenado!\n"
          ],
          "name": "stdout"
        }
      ]
    },
    {
      "cell_type": "code",
      "metadata": {
        "colab": {
          "base_uri": "https://localhost:8080/",
          "height": 296
        },
        "id": "RKvHOw4-dVdk",
        "outputId": "37537555-31b4-472c-f3a5-55f310a20078"
      },
      "source": [
        "#resultados de la red en cada vuelta que dio \n",
        "import matplotlib.pyplot as plt\n",
        "plt.xlabel(\"# Epoca\")\n",
        "plt.ylabel(\"Magnitud de pérdida\")\n",
        "plt.plot(historial.history[\"loss\"])"
      ],
      "execution_count": 7,
      "outputs": [
        {
          "output_type": "execute_result",
          "data": {
            "text/plain": [
              "[<matplotlib.lines.Line2D at 0x7f2ad21eaa10>]"
            ]
          },
          "metadata": {
            "tags": []
          },
          "execution_count": 7
        },
        {
          "output_type": "display_data",
          "data": {
            "image/png": "[encoded data removed]",
            "text/plain": [
              "<Figure size 432x288 with 1 Axes>"
            ]
          },
          "metadata": {
            "tags": [],
            "needs_background": "light"
          }
        }
      ]
    },
    {
      "cell_type": "code",
      "metadata": {
        "colab": {
          "base_uri": "https://localhost:8080/"
        },
        "id": "CleMWVdIdxeJ",
        "outputId": "e9a7eab0-8f5e-43c2-9d10-95d6be5a0163"
      },
      "source": [
        "print(\"Hagamos una predicción!\")\n",
        "resultado = modelo.predict([100.0])\n",
        "print(\"El resultado es \" + str(resultado) + \" fahrenheit!\")"
      ],
      "execution_count": 8,
      "outputs": [
        {
          "output_type": "stream",
          "text": [
            "Hagamos una predicción!\n",
            "El resultado es [[211.7441]] fahrenheit!\n"
          ],
          "name": "stdout"
        }
      ]
    },
    {
      "cell_type": "code",
      "metadata": {
        "colab": {
          "base_uri": "https://localhost:8080/"
        },
        "id": "u6_9i6lEeDxp",
        "outputId": "feee2ad4-138b-4623-cbfc-db6b16c00199"
      },
      "source": [
        "print(\"Variables internas del modelo\")\n",
        "print(capa.get_weights())\n"
      ],
      "execution_count": 10,
      "outputs": [
        {
          "output_type": "stream",
          "text": [
            "Variables internas del modelo\n",
            "[array([[1.7981297]], dtype=float32), array([31.931126], dtype=float32)]\n"
          ],
          "name": "stdout"
        }
      ]
    },
    {
      "cell_type": "code",
      "metadata": {
        "id": "72g0gOszeayh"
      },
      "source": [
        "#esto quiere decir que la ecuacion lineal finalmente quedaria 100 * 1.79 + 31,93, lo que es lo mismo que la formula de transformacion de celsius a fahrenheit"
      ],
      "execution_count": 11,
      "outputs": []
    }
  ]
}